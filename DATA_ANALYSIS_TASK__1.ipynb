{
  "nbformat": 4,
  "nbformat_minor": 0,
  "metadata": {
    "colab": {
      "provenance": []
    },
    "kernelspec": {
      "name": "python3",
      "display_name": "Python 3"
    },
    "language_info": {
      "name": "python"
    }
  },
  "cells": [
    {
      "cell_type": "code",
      "execution_count": 1,
      "metadata": {
        "id": "nvqrjcnQgQ_E"
      },
      "outputs": [],
      "source": [
        "import pandas as pd\n"
      ]
    },
    {
      "cell_type": "code",
      "source": [
        "# Load the dataset\n",
        "df = pd.read_csv(\"marketing_campaign.csv\", sep='\\t')\n"
      ],
      "metadata": {
        "id": "E7XaPBTIhDwh"
      },
      "execution_count": 8,
      "outputs": []
    },
    {
      "cell_type": "code",
      "source": [
        "# Show initial info\n",
        "print(\"Initial Data Info:\")\n",
        "print(df.info())\n",
        "print(\"\\nMissing Values Before Cleaning:\\n\", df.isnull().sum())\n"
      ],
      "metadata": {
        "colab": {
          "base_uri": "https://localhost:8080/"
        },
        "id": "SOaexn3_hI8q",
        "outputId": "b04c994e-bcc7-48bf-da34-8789b525f217"
      },
      "execution_count": 9,
      "outputs": [
        {
          "output_type": "stream",
          "name": "stdout",
          "text": [
            "Initial Data Info:\n",
            "<class 'pandas.core.frame.DataFrame'>\n",
            "RangeIndex: 2240 entries, 0 to 2239\n",
            "Data columns (total 29 columns):\n",
            " #   Column               Non-Null Count  Dtype  \n",
            "---  ------               --------------  -----  \n",
            " 0   ID                   2240 non-null   int64  \n",
            " 1   Year_Birth           2240 non-null   int64  \n",
            " 2   Education            2240 non-null   object \n",
            " 3   Marital_Status       2240 non-null   object \n",
            " 4   Income               2216 non-null   float64\n",
            " 5   Kidhome              2240 non-null   int64  \n",
            " 6   Teenhome             2240 non-null   int64  \n",
            " 7   Dt_Customer          2240 non-null   object \n",
            " 8   Recency              2240 non-null   int64  \n",
            " 9   MntWines             2240 non-null   int64  \n",
            " 10  MntFruits            2240 non-null   int64  \n",
            " 11  MntMeatProducts      2240 non-null   int64  \n",
            " 12  MntFishProducts      2240 non-null   int64  \n",
            " 13  MntSweetProducts     2240 non-null   int64  \n",
            " 14  MntGoldProds         2240 non-null   int64  \n",
            " 15  NumDealsPurchases    2240 non-null   int64  \n",
            " 16  NumWebPurchases      2240 non-null   int64  \n",
            " 17  NumCatalogPurchases  2240 non-null   int64  \n",
            " 18  NumStorePurchases    2240 non-null   int64  \n",
            " 19  NumWebVisitsMonth    2240 non-null   int64  \n",
            " 20  AcceptedCmp3         2240 non-null   int64  \n",
            " 21  AcceptedCmp4         2240 non-null   int64  \n",
            " 22  AcceptedCmp5         2240 non-null   int64  \n",
            " 23  AcceptedCmp1         2240 non-null   int64  \n",
            " 24  AcceptedCmp2         2240 non-null   int64  \n",
            " 25  Complain             2240 non-null   int64  \n",
            " 26  Z_CostContact        2240 non-null   int64  \n",
            " 27  Z_Revenue            2240 non-null   int64  \n",
            " 28  Response             2240 non-null   int64  \n",
            "dtypes: float64(1), int64(25), object(3)\n",
            "memory usage: 507.6+ KB\n",
            "None\n",
            "\n",
            "Missing Values Before Cleaning:\n",
            " ID                      0\n",
            "Year_Birth              0\n",
            "Education               0\n",
            "Marital_Status          0\n",
            "Income                 24\n",
            "Kidhome                 0\n",
            "Teenhome                0\n",
            "Dt_Customer             0\n",
            "Recency                 0\n",
            "MntWines                0\n",
            "MntFruits               0\n",
            "MntMeatProducts         0\n",
            "MntFishProducts         0\n",
            "MntSweetProducts        0\n",
            "MntGoldProds            0\n",
            "NumDealsPurchases       0\n",
            "NumWebPurchases         0\n",
            "NumCatalogPurchases     0\n",
            "NumStorePurchases       0\n",
            "NumWebVisitsMonth       0\n",
            "AcceptedCmp3            0\n",
            "AcceptedCmp4            0\n",
            "AcceptedCmp5            0\n",
            "AcceptedCmp1            0\n",
            "AcceptedCmp2            0\n",
            "Complain                0\n",
            "Z_CostContact           0\n",
            "Z_Revenue               0\n",
            "Response                0\n",
            "dtype: int64\n"
          ]
        }
      ]
    },
    {
      "cell_type": "code",
      "source": [
        "# 1. Drop duplicate rows\n",
        "df.drop_duplicates(inplace=True)"
      ],
      "metadata": {
        "id": "79TPK8p8hUBN"
      },
      "execution_count": 10,
      "outputs": []
    },
    {
      "cell_type": "code",
      "source": [
        "print(df.columns)\n"
      ],
      "metadata": {
        "colab": {
          "base_uri": "https://localhost:8080/"
        },
        "id": "YJrZdfUohpHU",
        "outputId": "5bc26c61-4875-4daa-9f20-0f9ff29c1709"
      },
      "execution_count": 11,
      "outputs": [
        {
          "output_type": "stream",
          "name": "stdout",
          "text": [
            "Index(['ID', 'Year_Birth', 'Education', 'Marital_Status', 'Income', 'Kidhome',\n",
            "       'Teenhome', 'Dt_Customer', 'Recency', 'MntWines', 'MntFruits',\n",
            "       'MntMeatProducts', 'MntFishProducts', 'MntSweetProducts',\n",
            "       'MntGoldProds', 'NumDealsPurchases', 'NumWebPurchases',\n",
            "       'NumCatalogPurchases', 'NumStorePurchases', 'NumWebVisitsMonth',\n",
            "       'AcceptedCmp3', 'AcceptedCmp4', 'AcceptedCmp5', 'AcceptedCmp1',\n",
            "       'AcceptedCmp2', 'Complain', 'Z_CostContact', 'Z_Revenue', 'Response'],\n",
            "      dtype='object')\n"
          ]
        }
      ]
    },
    {
      "cell_type": "code",
      "source": [
        "# 2. Handle missing values\n",
        "# Fill missing Income with median\n",
        "df['Income'] = df['Income'].fillna(df['Income'].median())\n"
      ],
      "metadata": {
        "id": "-SS44Sv6hsrD"
      },
      "execution_count": 13,
      "outputs": []
    },
    {
      "cell_type": "code",
      "source": [
        "# 5. Standardize text columns (strip whitespace, lowercase)\n",
        "df['Education'] = df['Education'].str.strip().str.lower()\n",
        "df['Marital_Status'] = df['Marital_Status'].str.strip().str.lower()\n"
      ],
      "metadata": {
        "id": "tVkYebtWiZ3J"
      },
      "execution_count": 14,
      "outputs": []
    },
    {
      "cell_type": "code",
      "source": [
        "# 6. Convert 'Dt_Customer' to datetime and format to dd-mm-yyyy\n",
        "df['Dt_Customer'] = pd.to_datetime(df['Dt_Customer'], dayfirst=True, errors='coerce')\n",
        "df['Dt_Customer'] = df['Dt_Customer'].dt.strftime('%d-%m-%Y')\n"
      ],
      "metadata": {
        "id": "0jvgsn1IjJUx"
      },
      "execution_count": 15,
      "outputs": []
    },
    {
      "cell_type": "code",
      "source": [
        "# 7. Rename columns to lowercase and replace spaces with underscores\n",
        "df.columns = df.columns.str.lower().str.replace(' ', '_')"
      ],
      "metadata": {
        "id": "IPyMBmPAjhSH"
      },
      "execution_count": 16,
      "outputs": []
    },
    {
      "cell_type": "code",
      "source": [
        "# 8. Fix data types\n",
        "df['year_birth'] = df['year_birth'].astype(int)\n",
        "df['income'] = df['income'].astype(float)"
      ],
      "metadata": {
        "id": "7cyA61hOjjsE"
      },
      "execution_count": 17,
      "outputs": []
    },
    {
      "cell_type": "code",
      "source": [
        "# 9. Final cleaned dataset info\n",
        "print(\"\\nCleaned Data Info:\")\n",
        "print(df.info())\n",
        "print(\"\\nMissing Values After Cleaning:\\n\", df.isnull().sum())\n"
      ],
      "metadata": {
        "colab": {
          "base_uri": "https://localhost:8080/"
        },
        "id": "3kzuZjtSjlwZ",
        "outputId": "7a853440-a2fb-4e2d-fc4f-990f5f20a586"
      },
      "execution_count": 18,
      "outputs": [
        {
          "output_type": "stream",
          "name": "stdout",
          "text": [
            "\n",
            "Cleaned Data Info:\n",
            "<class 'pandas.core.frame.DataFrame'>\n",
            "RangeIndex: 2240 entries, 0 to 2239\n",
            "Data columns (total 29 columns):\n",
            " #   Column               Non-Null Count  Dtype  \n",
            "---  ------               --------------  -----  \n",
            " 0   id                   2240 non-null   int64  \n",
            " 1   year_birth           2240 non-null   int64  \n",
            " 2   education            2240 non-null   object \n",
            " 3   marital_status       2240 non-null   object \n",
            " 4   income               2240 non-null   float64\n",
            " 5   kidhome              2240 non-null   int64  \n",
            " 6   teenhome             2240 non-null   int64  \n",
            " 7   dt_customer          2240 non-null   object \n",
            " 8   recency              2240 non-null   int64  \n",
            " 9   mntwines             2240 non-null   int64  \n",
            " 10  mntfruits            2240 non-null   int64  \n",
            " 11  mntmeatproducts      2240 non-null   int64  \n",
            " 12  mntfishproducts      2240 non-null   int64  \n",
            " 13  mntsweetproducts     2240 non-null   int64  \n",
            " 14  mntgoldprods         2240 non-null   int64  \n",
            " 15  numdealspurchases    2240 non-null   int64  \n",
            " 16  numwebpurchases      2240 non-null   int64  \n",
            " 17  numcatalogpurchases  2240 non-null   int64  \n",
            " 18  numstorepurchases    2240 non-null   int64  \n",
            " 19  numwebvisitsmonth    2240 non-null   int64  \n",
            " 20  acceptedcmp3         2240 non-null   int64  \n",
            " 21  acceptedcmp4         2240 non-null   int64  \n",
            " 22  acceptedcmp5         2240 non-null   int64  \n",
            " 23  acceptedcmp1         2240 non-null   int64  \n",
            " 24  acceptedcmp2         2240 non-null   int64  \n",
            " 25  complain             2240 non-null   int64  \n",
            " 26  z_costcontact        2240 non-null   int64  \n",
            " 27  z_revenue            2240 non-null   int64  \n",
            " 28  response             2240 non-null   int64  \n",
            "dtypes: float64(1), int64(25), object(3)\n",
            "memory usage: 507.6+ KB\n",
            "None\n",
            "\n",
            "Missing Values After Cleaning:\n",
            " id                     0\n",
            "year_birth             0\n",
            "education              0\n",
            "marital_status         0\n",
            "income                 0\n",
            "kidhome                0\n",
            "teenhome               0\n",
            "dt_customer            0\n",
            "recency                0\n",
            "mntwines               0\n",
            "mntfruits              0\n",
            "mntmeatproducts        0\n",
            "mntfishproducts        0\n",
            "mntsweetproducts       0\n",
            "mntgoldprods           0\n",
            "numdealspurchases      0\n",
            "numwebpurchases        0\n",
            "numcatalogpurchases    0\n",
            "numstorepurchases      0\n",
            "numwebvisitsmonth      0\n",
            "acceptedcmp3           0\n",
            "acceptedcmp4           0\n",
            "acceptedcmp5           0\n",
            "acceptedcmp1           0\n",
            "acceptedcmp2           0\n",
            "complain               0\n",
            "z_costcontact          0\n",
            "z_revenue              0\n",
            "response               0\n",
            "dtype: int64\n"
          ]
        }
      ]
    },
    {
      "cell_type": "code",
      "source": [
        "# 10. Save cleaned dataset\n",
        "df.to_csv(\"cleaned_customer_personality.csv\", index=False)\n",
        "print(\"\\n✅ Cleaned dataset saved as 'cleaned_customer_personality.csv'\")"
      ],
      "metadata": {
        "colab": {
          "base_uri": "https://localhost:8080/"
        },
        "id": "MeNAcoRujoL-",
        "outputId": "d3149fe7-397c-436c-cc34-9966e458f470"
      },
      "execution_count": 19,
      "outputs": [
        {
          "output_type": "stream",
          "name": "stdout",
          "text": [
            "\n",
            "✅ Cleaned dataset saved as 'cleaned_customer_personality.csv'\n"
          ]
        }
      ]
    },
    {
      "cell_type": "code",
      "source": [],
      "metadata": {
        "id": "8v9dIQLWkDiy"
      },
      "execution_count": null,
      "outputs": []
    }
  ]
}